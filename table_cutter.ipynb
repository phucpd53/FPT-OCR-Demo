{
 "cells": [
  {
   "cell_type": "code",
   "execution_count": 11,
   "metadata": {},
   "outputs": [
    {
     "name": "stderr",
     "output_type": "stream",
     "text": [
      "C:\\Anaconda3\\lib\\site-packages\\ipykernel_launcher.py:118: DeprecationWarning: elementwise comparison failed; this will raise an error in the future.\n"
     ]
    },
    {
     "data": {
      "text/plain": [
       "<matplotlib.image.AxesImage at 0x260f9544550>"
      ]
     },
     "execution_count": 11,
     "metadata": {},
     "output_type": "execute_result"
    },
    {
     "data": {
      "image/png": "[encoded data removed]",
      "text/plain": [
       "<Figure size 432x288 with 1 Axes>"
      ]
     },
     "metadata": {
      "needs_background": "light"
     },
     "output_type": "display_data"
    }
   ],
   "source": [
    "import cv2 \n",
    "import numpy as np\n",
    "from matplotlib import pyplot as plt\n",
    "\n",
    "import skimage\n",
    "import imutils\n",
    "from imutils import contours\n",
    "from tqdm import tqdm\n",
    "import pandas as pd\n",
    "\n",
    "# from PIL import Image, ImageDraw,ImageFont\n",
    "# import os\n",
    "# import sys\n",
    "# from statistics import median\n",
    "# import pyocr\n",
    "# import pyocr.builders\n",
    "# from pdf2image import convert_from_path\n",
    "# import cv2 \n",
    "# import numpy as np\n",
    "\n",
    "\n",
    "img = cv2.imread(\"002.jpg\")\n",
    "kernel = np.ones((20,20),np.uint8)\n",
    "img_erode = cv2.erode(img,kernel,iterations = 3)\n",
    "\n",
    "out_e = cv2.cvtColor(img_erode, cv2.COLOR_BGR2GRAY)\n",
    "ret, out_e_thresh_bin = cv2.threshold(out_e, 120, 255, cv2.THRESH_BINARY_INV)\n",
    "out_e_thresh_bin_nonoise = cv2.morphologyEx(out_e_thresh_bin,cv2.MORPH_OPEN,kernel, iterations = 2)\n",
    "out_e_thresh_bin_e = cv2.erode(out_e_thresh_bin_nonoise, None, iterations=4)\n",
    "\n",
    "plt.imshow(out_e_thresh_bin_e, \"gray\")\n",
    "\n",
    "\n",
    "\"\"\"Connected-component analysis of image\"\"\"\n",
    "\n",
    "def grab_contours(cnts):\n",
    "    # if the length the contours tuple returned by cv2.findContours\n",
    "    # is '2' then we are using either OpenCV v2.4, v4-beta, or\n",
    "    # v4-official\n",
    "    if len(cnts) == 2:\n",
    "        cnts = cnts[0]\n",
    "\n",
    "    # if the length of the contours tuple is '3' then we are using\n",
    "    # either OpenCV v3, v4-pre, or v4-alpha\n",
    "    elif len(cnts) == 3:\n",
    "        cnts = cnts[1]\n",
    "\n",
    "    # otherwise OpenCV has changed their cv2.findContours return\n",
    "    # signature yet again and I have no idea WTH is going on\n",
    "    else:\n",
    "        raise Exception((\"Contours tuple must have length 2 or 3, \"\n",
    "            \"otherwise OpenCV changed their cv2.findContours return \"\n",
    "            \"signature yet again. Refer to OpenCV's documentation \"\n",
    "            \"in that case\"))\n",
    "\n",
    "    # return the actual contours array\n",
    "    return cnts\n",
    "\n",
    "labels = skimage.measure.label(out_e_thresh_bin_e, neighbors=8, background=0)\n",
    "mask = np.zeros(out_e_thresh_bin_e.shape, dtype=\"uint8\")\n",
    "labels\n",
    " \n",
    "# loop over the unique components\n",
    "def img_size(img):\n",
    "    return img.shape[0]*img.shape[1]\n",
    "\n",
    "img_size = img_size(img)\n",
    "for label in np.unique(labels):\n",
    "# if this is the background label, ignore it\n",
    "    if label == 0:\n",
    "        continue\n",
    " \n",
    "    # otherwise, construct the label mask and count the\n",
    "    # number of pixels \n",
    "    labelMask = np.zeros(out_e_thresh_bin_e.shape, dtype=\"uint8\")\n",
    "    labelMask[labels == label] = 255\n",
    "    numPixels = cv2.countNonZero(labelMask)\n",
    "    \n",
    "    # if the number of pixels in the component is sufficiently\n",
    "    # large, then add it to our mask of \"large blobs\"\n",
    "    if numPixels > img_size*1/1000:\n",
    "        cnts_mask_all = cv2.findContours(labelMask,cv2.RETR_EXTERNAL,cv2.CHAIN_APPROX_SIMPLE)\n",
    "        cnts_mask = grab_contours(cnts_mask_all)\n",
    "        cnts_mask = contours.sort_contours(cnts_mask)[0]\n",
    "        contour_size = []\n",
    "        for i, c in enumerate(cnts_mask):\n",
    "            (x,y,w,h) = cv2.boundingRect(c)\n",
    "            contour_size.append((x+w)*(y+h))\n",
    "        if np.max(contour_size) <= img_size*90/100:\n",
    "            mask = cv2.add(mask, labelMask)\n",
    "    else:\n",
    "        continue\n",
    "cnts_allinfo = cv2.findContours(mask.copy(),cv2.RETR_EXTERNAL,cv2.CHAIN_APPROX_SIMPLE)\n",
    "\n",
    "cnts = grab_contours(cnts_allinfo)\n",
    "cnts = contours.sort_contours(cnts)[0]\n",
    "\n",
    "counter = 0\n",
    "img_dict = {}\n",
    "for (i, c) in enumerate(cnts):\n",
    "    #draw bright spots on image\n",
    "    (x, y ,w, h) = cv2.boundingRect(c)\n",
    "    cv2.rectangle(img, (x,y), (x+w, y+h), (0,0,255),2)\n",
    "    img_crop = img.copy()[y:y+h,x:x+w,:]\n",
    "    img_dict[counter] = img_crop\n",
    "#     cv2.imwrite(\".\\\\test_cut\\\\\" + \"002\" +\"_part_\" + str(counter) + \".jpg\", img_crop)\n",
    "#     counter = counter + 1\n",
    "# # cv2.imwrite(img_path.split(\"\\\\\")[-1].split(\".\")[0] + \"_test_connectComponent_graph.jpg\", img)\n",
    "\n",
    "#            # mask = cv2.add(mask,LabelMask)\n",
    "# #             print((x+w)*(y+h))\n",
    "#         #mask = cv2.add(mask, labelMask)\n",
    "# plt.figure(figsize = (20,20))\n",
    "# plt.imshow(mask.copy())\n",
    "\n",
    "max_part = []\n",
    "for i, p in img_dict.items():\n",
    "    if max_part == [] or p.shape[0]*p.shape[1]>max_part.shape[0]*max_part.shape[1]:\n",
    "        max_part = p\n",
    "    else:\n",
    "        max_part = max_part\n",
    "cv2.imwrite(\".\\\\test_cut\\\\\" + \"002\" +\"_part_\" + str(counter) + \".jpg\", max_part)"
   ]
  },
  {
   "cell_type": "code",
   "execution_count": null,
   "metadata": {},
   "outputs": [],
   "source": []
  }
 ],
 "metadata": {
  "kernelspec": {
   "display_name": "Python 3",
   "language": "python",
   "name": "python3"
  },
  "language_info": {
   "codemirror_mode": {
    "name": "ipython",
    "version": 3
   },
   "file_extension": ".py",
   "mimetype": "text/x-python",
   "name": "python",
   "nbconvert_exporter": "python",
   "pygments_lexer": "ipython3",
   "version": "3.6.8"
  }
 },
 "nbformat": 4,
 "nbformat_minor": 2
}
